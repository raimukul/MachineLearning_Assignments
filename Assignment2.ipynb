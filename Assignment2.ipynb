{
  "nbformat": 4,
  "nbformat_minor": 0,
  "metadata": {
    "colab": {
      "provenance": [],
      "authorship_tag": "ABX9TyMHrigjrb/CXrs9UZl2LpJP",
      "include_colab_link": true
    },
    "kernelspec": {
      "name": "python3",
      "display_name": "Python 3"
    },
    "language_info": {
      "name": "python"
    }
  },
  "cells": [
    {
      "cell_type": "markdown",
      "metadata": {
        "id": "view-in-github",
        "colab_type": "text"
      },
      "source": [
        "<a href=\"https://colab.research.google.com/github/raimukul/MachineLearning_Assignments/blob/main/Assignment2.ipynb\" target=\"_parent\"><img src=\"https://colab.research.google.com/assets/colab-badge.svg\" alt=\"Open In Colab\"/></a>"
      ]
    },
    {
      "cell_type": "markdown",
      "source": [
        "**Spring 2023: CS5710 – Machine Learning**\n",
        "\n",
        "In-Class Programming Assignment-2\n",
        "\n",
        "1. Use a python code to display the following star pattern using the for loop.\n",
        "\n",
        "![image.png](data:image/png;base64,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)"
      ],
      "metadata": {
        "id": "QDaG6KPAw9IT"
      }
    },
    {
      "cell_type": "code",
      "execution_count": null,
      "metadata": {
        "colab": {
          "base_uri": "https://localhost:8080/"
        },
        "id": "fcpyFEVCtTQ9",
        "outputId": "924a5401-7b0e-4d02-d084-0b91b07200ec"
      },
      "outputs": [
        {
          "output_type": "stream",
          "name": "stdout",
          "text": [
            "* \r\n",
            "* * \r\n",
            "* * * \r\n",
            "* * * * \r\n",
            "* * * * * \r\n",
            "* * * * \r\n",
            "* * * \r\n",
            "* * \r\n",
            "* \r\n",
            "\r\n"
          ]
        }
      ],
      "source": [
        "rows = 5\n",
        "for i in range(0, rows):\n",
        "    for j in range(0, i + 1):\n",
        "        print(\"*\", end=' ')\n",
        "    print(\"\\r\")\n",
        "\n",
        "for i in range(rows, 0, -1):\n",
        "    for j in range(0, i - 1):\n",
        "        print(\"*\", end=' ')\n",
        "    print(\"\\r\")\n"
      ]
    },
    {
      "cell_type": "markdown",
      "source": [
        "**2. Use looping to output the elements from a provided list present at odd indexes.**\n",
        "\n",
        "`my_list = [10, 20, 30, 40, 50, 60, 70, 80, 90, 100]`\n"
      ],
      "metadata": {
        "id": "pYdcUiW-xXKI"
      }
    },
    {
      "cell_type": "markdown",
      "source": [],
      "metadata": {
        "id": "3nYXDf6pxXGl"
      }
    },
    {
      "cell_type": "code",
      "source": [
        "my_list = [10, 20, 30, 40, 50, 60, 70, 80, 90, 100]\n",
        "# stat from index 1 with step 2( means 1, 3, 5, an so on)\n",
        "for i in my_list[1::2]:\n",
        "    print(i, end=\" \")"
      ],
      "metadata": {
        "colab": {
          "base_uri": "https://localhost:8080/"
        },
        "id": "Ou-42lT6tnhj",
        "outputId": "2a0cf832-6b19-45e8-e477-10c7e57bf777"
      },
      "execution_count": null,
      "outputs": [
        {
          "output_type": "stream",
          "name": "stdout",
          "text": [
            "20 40 60 80 100 "
          ]
        }
      ]
    },
    {
      "cell_type": "markdown",
      "source": [
        "3. Write a code that appends the type of elements from a given list.\n",
        "\n",
        "\n",
        "```\n",
        "\n",
        "Input\n",
        " x = [23, ‘Python’, 23.98]\n",
        " Expected output\n",
        " [23, 'Python', 23.98]\n",
        " [<class 'int'>, <class 'str'>, <class 'float'>]\n",
        "```\n",
        "\n"
      ],
      "metadata": {
        "id": "4roq6xnzxsTa"
      }
    },
    {
      "cell_type": "code",
      "source": [
        "x = [23, 'Python',23.98]\n",
        "y = []\n",
        "for i in range(len(x)):\n",
        "    y.append(type(x[i]))\n",
        "print(x)\n",
        "print(y)"
      ],
      "metadata": {
        "colab": {
          "base_uri": "https://localhost:8080/"
        },
        "id": "tmpCbtXUuGkL",
        "outputId": "d93d0119-3ee7-44cd-f0be-ca599de9c41b"
      },
      "execution_count": null,
      "outputs": [
        {
          "output_type": "stream",
          "name": "stdout",
          "text": [
            "[23, 'Python', 23.98]\n",
            "[<class 'int'>, <class 'str'>, <class 'float'>]\n"
          ]
        }
      ]
    },
    {
      "cell_type": "markdown",
      "source": [
        "4. Write a function that takes a list and returns a new list with unique items of the first list.\n",
        "\n",
        "\n",
        "```\n",
        "\n",
        "Sample List: [1,2,3,3,3,3,4,5]\n",
        "Unique List: [1, 2, 3, 4, 5]\n",
        "```\n",
        "\n"
      ],
      "metadata": {
        "id": "T9E3zdiKx6EM"
      }
    },
    {
      "cell_type": "code",
      "source": [
        "def f(list):\n",
        "\n",
        "    a=set(list)\n",
        "\n",
        "    print(sorted(a))\n",
        "\n",
        "f([1,2,3,3,3,3,4,5])"
      ],
      "metadata": {
        "colab": {
          "base_uri": "https://localhost:8080/"
        },
        "id": "Ku3XMbgnu5eg",
        "outputId": "37825c06-c4ff-4466-a933-eb57593cbb1e"
      },
      "execution_count": null,
      "outputs": [
        {
          "output_type": "stream",
          "name": "stdout",
          "text": [
            "[1, 2, 3, 4, 5]\n"
          ]
        }
      ]
    },
    {
      "cell_type": "markdown",
      "source": [
        "5. Write a function that accepts a string and calculate the number of upper-case letters and lower-case\n",
        "letters.\n",
        "\n",
        "\n",
        "```\n",
        "Input String: 'The quick Brow Fox'\n",
        "Expected Output:\n",
        "No. of Upper-case characters: 3\n",
        "No. of Lower-case Characters: 12\n",
        "\n",
        "```\n",
        "\n"
      ],
      "metadata": {
        "id": "EhURBM3PyBXk"
      }
    },
    {
      "cell_type": "code",
      "source": [
        "def string_test(s):\n",
        "    d={\"upperCase\":0, \"lowerCase\":0}\n",
        "    for c in s:\n",
        "        if c.isupper():\n",
        "           d[\"upperCase\"]+=1\n",
        "        elif c.islower():\n",
        "           d[\"lowerCase\"]+=1\n",
        "        else:\n",
        "           pass\n",
        "    print (\"Original String : \", s)\n",
        "    print (\"No. of Upper-case characters : \", d[\"upperCase\"])\n",
        "    print (\"No. of Lower-case Characters : \", d[\"lowerCase\"])\n",
        "string_test('The quick Brow Fox')"
      ],
      "metadata": {
        "colab": {
          "base_uri": "https://localhost:8080/"
        },
        "id": "Ko3GTRCQvQVv",
        "outputId": "39dfc93f-bc76-4c3b-ef7b-844445e1599d"
      },
      "execution_count": null,
      "outputs": [
        {
          "output_type": "stream",
          "name": "stdout",
          "text": [
            "Original String :  The quick Brow Fox\n",
            "No. of Upper-case characters :  3\n",
            "No. of Lower-case Characters :  12\n"
          ]
        }
      ]
    }
  ]
}