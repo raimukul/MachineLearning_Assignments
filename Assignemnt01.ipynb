{
  "nbformat": 4,
  "nbformat_minor": 0,
  "metadata": {
    "colab": {
      "provenance": [],
      "collapsed_sections": [
        "v_QCVNs7DPtB"
      ],
      "authorship_tag": "ABX9TyOvhZ7xZ7LmHjvPQAERjLPX",
      "include_colab_link": true
    },
    "kernelspec": {
      "name": "python3",
      "display_name": "Python 3"
    },
    "language_info": {
      "name": "python"
    }
  },
  "cells": [
    {
      "cell_type": "markdown",
      "metadata": {
        "id": "view-in-github",
        "colab_type": "text"
      },
      "source": [
        "<a href=\"https://colab.research.google.com/github/raimukul/MachineLearning_Assignments/blob/main/Assignemnt01.ipynb\" target=\"_parent\"><img src=\"https://colab.research.google.com/assets/colab-badge.svg\" alt=\"Open In Colab\"/></a>"
      ]
    },
    {
      "cell_type": "markdown",
      "source": [
        "**Question 1**\n",
        "---------------\n",
        "\n",
        "**The following is a list of 10 students ages:**\n",
        "\n",
        "`ages = [19, 22, 19, 24, 20, 25, 26, 24, 25, 24]`\n",
        "\n",
        "*   Sort the list and find the min and max age\n",
        "*   Add the min age and the max age again to the list\n",
        "*   Find the median age (one middle item or two middle items divided by two)\n",
        "*   Find the average age (sum of all items divided by their number)\n",
        "*   Find the range of the ages (max minus min)\n",
        "\n"
      ],
      "metadata": {
        "id": "DKay3z2p-dsj"
      }
    },
    {
      "cell_type": "code",
      "execution_count": null,
      "metadata": {
        "id": "ZrfRqXewvhXP",
        "colab": {
          "base_uri": "https://localhost:8080/"
        },
        "outputId": "5529c472-b238-4456-db01-da3254068a86"
      },
      "outputs": [
        {
          "output_type": "stream",
          "name": "stdout",
          "text": [
            "Sorted list = [19, 19, 20, 22, 24, 24, 24, 25, 25, 26]\n"
          ]
        }
      ],
      "source": [
        "ages = [19, 22, 19, 24, 20, 25, 26, 24, 25, 24]\n",
        "# Sort the list and find the min and max age\n",
        "ages.sort()\n",
        "print(\"Sorted list =\", ages)"
      ]
    },
    {
      "cell_type": "code",
      "source": [
        "# min and max age\n",
        "print(\"Min age in list =\", min(ages))\n",
        "print(\"Max age in list =\", max(ages))"
      ],
      "metadata": {
        "colab": {
          "base_uri": "https://localhost:8080/"
        },
        "id": "d0BiO9FNweQ3",
        "outputId": "39a812a4-c273-46a9-9dbb-5acbff0f6af6"
      },
      "execution_count": null,
      "outputs": [
        {
          "output_type": "stream",
          "name": "stdout",
          "text": [
            "Min age in list = 19\n",
            "Max age in list = 26\n"
          ]
        }
      ]
    },
    {
      "cell_type": "code",
      "source": [
        "# Add the min age again to the list\n",
        "ages.insert(1, min(ages))\n",
        "\n",
        "print(ages)"
      ],
      "metadata": {
        "colab": {
          "base_uri": "https://localhost:8080/"
        },
        "id": "SUdscarqyXMf",
        "outputId": "99d08fc7-60da-4a8c-be5a-2b740cb0e874"
      },
      "execution_count": null,
      "outputs": [
        {
          "output_type": "stream",
          "name": "stdout",
          "text": [
            "[19, 19, 19, 20, 22, 24, 24, 24, 25, 25, 26]\n"
          ]
        }
      ]
    },
    {
      "cell_type": "code",
      "source": [
        "# Add the max age again to the list\n",
        "ages.insert(1, max(ages))\n",
        "print(ages)"
      ],
      "metadata": {
        "colab": {
          "base_uri": "https://localhost:8080/"
        },
        "id": "9i7dugEiypEL",
        "outputId": "c45569d2-15c4-435a-8943-f9199aea6615"
      },
      "execution_count": null,
      "outputs": [
        {
          "output_type": "stream",
          "name": "stdout",
          "text": [
            "[19, 26, 19, 19, 20, 22, 24, 24, 24, 25, 25, 26]\n"
          ]
        }
      ]
    },
    {
      "cell_type": "code",
      "source": [
        "import statistics\n",
        "med = statistics.median(ages)\n",
        "print(\"Median of list is : \" + str(med))"
      ],
      "metadata": {
        "colab": {
          "base_uri": "https://localhost:8080/"
        },
        "id": "sWsHgOKV0Qn_",
        "outputId": "7b152bfc-0446-4663-8db3-5a0182b85a49"
      },
      "execution_count": null,
      "outputs": [
        {
          "output_type": "stream",
          "name": "stdout",
          "text": [
            "Median of list is : 24.0\n"
          ]
        }
      ]
    },
    {
      "cell_type": "code",
      "source": [
        "Average= sum(ages)/len(ages)\n",
        "print (\"Average of list = \", Average)"
      ],
      "metadata": {
        "id": "OxXfkvq508s4",
        "colab": {
          "base_uri": "https://localhost:8080/"
        },
        "outputId": "6b2ef63f-9377-4804-d129-2e43d53ec96a"
      },
      "execution_count": null,
      "outputs": [
        {
          "output_type": "stream",
          "name": "stdout",
          "text": [
            "Average of list =  22.75\n"
          ]
        }
      ]
    },
    {
      "cell_type": "markdown",
      "source": [
        "**Question 2**\n",
        "----------------\n",
        "\n",
        "* Create an empty dictionary called dog.\n",
        "* Add name, color, breed, legs, age to the dog dictionary\n",
        "* Create a student dictionary and add first_name, last_name, gender, age, marital status,\n",
        "skills, country, city and address as keys for the dictionary\n",
        "* Get the length of the student dictionary\n",
        "* Get the value of skills and check the data type, it should be a list\n",
        "* Modify the skills values by adding one or two skills\n",
        "* Get the dictionary keys as a list\n",
        "* Get the dictionary values as a list"
      ],
      "metadata": {
        "id": "v_QCVNs7DPtB"
      }
    },
    {
      "cell_type": "code",
      "source": [
        "# Create an empty dictionary called dog.\n",
        "dog = {}\n",
        "print (\"Dog dictionary as follow :\",dog)"
      ],
      "metadata": {
        "colab": {
          "base_uri": "https://localhost:8080/"
        },
        "id": "owBzMURaD2ev",
        "outputId": "43cb9ef0-4844-44bf-9838-ec3184441f10"
      },
      "execution_count": null,
      "outputs": [
        {
          "output_type": "stream",
          "name": "stdout",
          "text": [
            "Dog dictionary as follow : {}\n"
          ]
        }
      ]
    },
    {
      "cell_type": "code",
      "source": [
        "# Add name, color, breed, legs, age to the dog dictionary\n",
        "dog.update({'name':'Moti','color':'Grey','breed':'BullDog','legs':'4','age':'2'})\n",
        "print (\"Dog dictionary having values as follow :\" ,dog)"
      ],
      "metadata": {
        "colab": {
          "base_uri": "https://localhost:8080/"
        },
        "id": "kHi5w3UwFRRX",
        "outputId": "f10cf5e6-500c-4807-f8e6-8115956f9493"
      },
      "execution_count": null,
      "outputs": [
        {
          "output_type": "stream",
          "name": "stdout",
          "text": [
            "Dog dictionary having values as follow : {'name': 'Moti', 'color': 'Grey', 'breed': 'BullDog', 'legs': '4', 'age': '2'}\n"
          ]
        }
      ]
    },
    {
      "cell_type": "code",
      "source": [
        "# Create a student dictionary and add first_name, last_name, gender, age, marital status, skills, country, city and address as keys for the dictionary\n",
        "student = {'first_name':'Mukul','last_name':'Rai','Gender':'Male','age':'23','marital_status':'Single','skills':['Developer', 'Tester'],'Country':'India','City':'Gopalganj','Address':'HN 01, Vill+PO - Semranw , PIN: 841436'}\n",
        "print (\"Student dictionary created as follow :\" ,student)"
      ],
      "metadata": {
        "colab": {
          "base_uri": "https://localhost:8080/"
        },
        "id": "vEa6oixJFxbt",
        "outputId": "809d7f47-45be-47b9-d41a-08221a357b72"
      },
      "execution_count": null,
      "outputs": [
        {
          "output_type": "stream",
          "name": "stdout",
          "text": [
            "Student dictionary created as follow : {'first_name': 'Mukul', 'last_name': 'Rai', 'Gender': 'Male', 'age': '23', 'marital_status': 'Single', 'skills': ['Developer', 'Tester'], 'Country': 'India', 'City': 'Gopalganj', 'Address': 'HN 01, Vill+PO - Semranw , PIN: 841436'}\n"
          ]
        }
      ]
    },
    {
      "cell_type": "code",
      "source": [
        "# Get the length of the student dictionary\n",
        "print (\"Length of student dictionary:\" ,len(student))"
      ],
      "metadata": {
        "colab": {
          "base_uri": "https://localhost:8080/"
        },
        "id": "w7oprEtOGqLq",
        "outputId": "75b80b94-83a2-43b1-835d-f4818ed97dac"
      },
      "execution_count": null,
      "outputs": [
        {
          "output_type": "stream",
          "name": "stdout",
          "text": [
            "Length of student dictionary: 9\n"
          ]
        }
      ]
    },
    {
      "cell_type": "code",
      "source": [
        "#Get the value of skills and check the data type, it should be a list\n",
        "Dskill= student[\"skills\"]\n",
        "print(\" value of skills: \", Dskill)\n",
        "print(\" value of skills: \", type(Dskill)) "
      ],
      "metadata": {
        "colab": {
          "base_uri": "https://localhost:8080/"
        },
        "id": "Lrst791tG4lB",
        "outputId": "cfe70c51-f8b3-4ac8-d942-1c8c4b1a2635"
      },
      "execution_count": null,
      "outputs": [
        {
          "output_type": "stream",
          "name": "stdout",
          "text": [
            " value of skills:  ['Developer', 'Tester']\n",
            " value of skills:  <class 'list'>\n"
          ]
        }
      ]
    },
    {
      "cell_type": "code",
      "source": [
        "# Modify the skills values by adding one or two skills\n",
        "student = {'skills': ['Python Developer', 'DevOps'],}\n",
        "print (\"Updated Student dictionary as follow :\" ,student)"
      ],
      "metadata": {
        "colab": {
          "base_uri": "https://localhost:8080/"
        },
        "id": "tgLnw5GAI5I1",
        "outputId": "edb6a7ad-04f0-41ff-8360-c5fa02d333a6"
      },
      "execution_count": null,
      "outputs": [
        {
          "output_type": "stream",
          "name": "stdout",
          "text": [
            "Updated Student dictionary as follow : {'skills': ['Python Developer', 'DevOps']}\n"
          ]
        }
      ]
    },
    {
      "cell_type": "code",
      "source": [
        "#Get the dictionary keys as a list\n",
        "keysList = list(student.keys())\n",
        "print('Key as list', keysList)"
      ],
      "metadata": {
        "colab": {
          "base_uri": "https://localhost:8080/"
        },
        "id": "41V0UEqFKLpf",
        "outputId": "4c61a71a-b386-4f69-9757-2228df1cd47c"
      },
      "execution_count": null,
      "outputs": [
        {
          "output_type": "stream",
          "name": "stdout",
          "text": [
            "Key as list ['first_name', 'last_name', 'Gender', 'age', 'marital_status', 'skills', 'Country', 'City', 'Address']\n"
          ]
        }
      ]
    },
    {
      "cell_type": "code",
      "source": [
        "# Get the dictionary values as a list\n",
        "valueList = list(student.values())\n",
        "print('Key as list', valueList)"
      ],
      "metadata": {
        "colab": {
          "base_uri": "https://localhost:8080/"
        },
        "id": "LY_tYZ9iKXEJ",
        "outputId": "965fbf7e-8987-4882-9014-6392f8d59ff8"
      },
      "execution_count": null,
      "outputs": [
        {
          "output_type": "stream",
          "name": "stdout",
          "text": [
            "Key as list ['Mukul', 'Rai', 'Male', '23', 'Single', ['Developer', 'Tester'], 'India', 'Gopalganj', 'HN 01, Vill+PO - Semranw , PIN: 841436']\n"
          ]
        }
      ]
    },
    {
      "cell_type": "markdown",
      "source": [
        "**Question 3**\n",
        "--------------\n",
        "\n",
        "* Create a tuple containing names of your sisters and your brothers (imaginary siblings are\n",
        "fine)\n",
        "* Join brothers and sisters tuples and assign it to siblings\n",
        "* How many siblings do you have?\n",
        "* Modify the siblings tuple and add the name of your father and mother and assign it to family_members"
      ],
      "metadata": {
        "id": "FItl59vNaGOj"
      }
    },
    {
      "cell_type": "code",
      "source": [
        "#Create a tuple containing names of your sisters and your brothers (imaginary siblings are fine)\n",
        "mySisters = ('Anupriya', 'Arya','Aayat','Shweta')\n",
        "myBrothers = ('Ankit','Alok','Abhinav','Aryman','Aditya')\n",
        "print('My sister names are : ', mySisters)\n",
        "print('My brother names are : ', myBrothers)"
      ],
      "metadata": {
        "colab": {
          "base_uri": "https://localhost:8080/"
        },
        "id": "SKTq3_ulabQI",
        "outputId": "19335fa4-646f-4831-b2cf-7ed1ae723ab7"
      },
      "execution_count": null,
      "outputs": [
        {
          "output_type": "stream",
          "name": "stdout",
          "text": [
            "My sister names are :  ('Anupriya', 'Arya', 'Aayat', 'Shweta')\n",
            "My brother names are :  ('Ankit', 'Alok', 'Abhinav', 'Aryman', 'Aditya')\n"
          ]
        }
      ]
    },
    {
      "cell_type": "code",
      "source": [
        "# Join brothers and sisters tuples and assign it to siblings\n",
        "siblings = myBrothers + mySisters\n",
        "print('All siblings are:', siblings)"
      ],
      "metadata": {
        "colab": {
          "base_uri": "https://localhost:8080/"
        },
        "id": "7aLdWD4Zba8D",
        "outputId": "2fd4e26a-98ca-4e64-ce50-34ea46255b3b"
      },
      "execution_count": null,
      "outputs": [
        {
          "output_type": "stream",
          "name": "stdout",
          "text": [
            "All siblings are: ('Ankit', 'Alok', 'Abhinav', 'Aryman', 'Aditya', 'Anupriya', 'Arya', 'Aayat', 'Shweta')\n"
          ]
        }
      ]
    },
    {
      "cell_type": "code",
      "source": [
        "# How many siblings do you have?\n",
        "print(\"Number of Siblings:\", len(siblings))"
      ],
      "metadata": {
        "colab": {
          "base_uri": "https://localhost:8080/"
        },
        "id": "aoEEeDvbcx5D",
        "outputId": "708f8c5b-69f7-4174-d89c-1f2fdbe323f4"
      },
      "execution_count": null,
      "outputs": [
        {
          "output_type": "stream",
          "name": "stdout",
          "text": [
            "Number of Siblings: 9\n"
          ]
        }
      ]
    },
    {
      "cell_type": "code",
      "source": [
        "family_members = siblings + ('Rambilash Rai', 'Geeta Rai')\n",
        "print('All faimly members are:', family_members)"
      ],
      "metadata": {
        "colab": {
          "base_uri": "https://localhost:8080/"
        },
        "id": "gRWLZjLZcBAA",
        "outputId": "26a6dc08-0fe7-4fda-f2b4-2bea627c37e4"
      },
      "execution_count": null,
      "outputs": [
        {
          "output_type": "stream",
          "name": "stdout",
          "text": [
            "All faimly members are: ('Ankit', 'Alok', 'Abhinav', 'Aryman', 'Aditya', 'Anupriya', 'Arya', 'Aayat', 'Shweta', 'Rambilash Rai', 'Geeta Rai')\n"
          ]
        }
      ]
    },
    {
      "cell_type": "code",
      "source": [],
      "metadata": {
        "id": "rdAI4G5Zc8sL"
      },
      "execution_count": null,
      "outputs": []
    },
    {
      "cell_type": "markdown",
      "source": [
        "**Question 4**\n",
        "--------------\n",
        "\n",
        "```\n",
        "it_companies = {'Facebook', 'Google', 'Microsoft', 'Apple', 'IBM', 'Oracle', 'Amazon'}\n",
        "```\n",
        "\n",
        "```\n",
        "A = {19, 22, 24, 20, 25, 26}\n",
        "B = {19, 22, 20, 25, 26, 24, 28, 27}\n",
        "age = [22, 19, 24, 25, 26, 24, 25, 24]\n",
        "```\n",
        "\n",
        "\n",
        "* Find the length of the set it_companies\n",
        "* Add 'Twitter' to it_companies\n",
        "* Insert multiple IT companies at once to the set it_companies\n",
        "* Remove one of the companies from the set it_companies\n",
        "* What is the difference between remove and discard\n",
        "* Join A and B\n",
        "* Find A intersection B\n",
        "* Is A subset of B\n",
        "* Are A and B disjoint sets\n",
        "* Join A with B and B with A\n",
        "* What is the symmetric difference between A and B\n",
        "* Delete the sets completely\n",
        "* Convert the ages to a set and compare the length of the list and the set"
      ],
      "metadata": {
        "id": "wtD584WAca2l"
      }
    },
    {
      "cell_type": "code",
      "source": [
        "#Find the length of the set it_companies\n",
        "it_companies = {'Facebook', 'Google', 'Microsoft', 'Apple', 'IBM', 'Oracle', 'Amazon'}\n",
        "print(\"Length of IT Companies:\", len(it_companies))"
      ],
      "metadata": {
        "id": "VRdCqk7sdBPJ",
        "colab": {
          "base_uri": "https://localhost:8080/"
        },
        "outputId": "8ce8b930-9597-43c6-c688-7ebdd807db9b"
      },
      "execution_count": 1,
      "outputs": [
        {
          "output_type": "stream",
          "name": "stdout",
          "text": [
            "Length of IT Companies: 7\n"
          ]
        }
      ]
    },
    {
      "cell_type": "code",
      "source": [
        "#Add 'Twitter' to it_companies\n",
        "it_companies.add('Twitter')\n",
        "print(\"After adding Twitter\", it_companies)"
      ],
      "metadata": {
        "colab": {
          "base_uri": "https://localhost:8080/"
        },
        "id": "FpDyO9UTmo4p",
        "outputId": "d431bb29-84fd-4753-a40d-2e4dc0db3f91"
      },
      "execution_count": 2,
      "outputs": [
        {
          "output_type": "stream",
          "name": "stdout",
          "text": [
            "After adding Twitter {'IBM', 'Facebook', 'Apple', 'Oracle', 'Amazon', 'Google', 'Twitter', 'Microsoft'}\n"
          ]
        }
      ]
    },
    {
      "cell_type": "code",
      "source": [
        "#Insert multiple IT companies at once to the set it_companies\n",
        "it_companies.update({'AIS', 'Infosys','Capgemini','Wipro','TCS'})\n",
        "print(\"After adding multiple companies:\",it_companies)"
      ],
      "metadata": {
        "colab": {
          "base_uri": "https://localhost:8080/"
        },
        "id": "Ici0ArbJmkpU",
        "outputId": "899f44d8-be3f-4b9d-8619-0c13de77298b"
      },
      "execution_count": 6,
      "outputs": [
        {
          "output_type": "stream",
          "name": "stdout",
          "text": [
            "After adding multiple companies: {'AIS', 'IBM', 'TCS', 'Facebook', 'Capgemini', 'Apple', 'Oracle', 'Amazon', 'Google', 'Twitter', 'Microsoft', 'Wipro', 'Infosys'}\n"
          ]
        }
      ]
    },
    {
      "cell_type": "code",
      "source": [
        "#Remove one of the companies from the set it_companies\n",
        "it_companies.remove('Capgemini')\n",
        "print(\"After removing one company:\",it_companies)"
      ],
      "metadata": {
        "colab": {
          "base_uri": "https://localhost:8080/"
        },
        "id": "oy2O03FlnILG",
        "outputId": "40317b9a-9897-4240-a41f-a9d150e15d51"
      },
      "execution_count": 7,
      "outputs": [
        {
          "output_type": "stream",
          "name": "stdout",
          "text": [
            "After removing one company: {'AIS', 'IBM', 'TCS', 'Facebook', 'Apple', 'Oracle', 'Amazon', 'Google', 'Twitter', 'Microsoft', 'Wipro', 'Infosys'}\n"
          ]
        }
      ]
    },
    {
      "cell_type": "code",
      "source": [
        "#What is the difference between remove and discard\n",
        "##Discard doesn't raise any error if any item is not present in the set\n",
        "it_companies.discard('TCS')\n",
        "print(\"After discarding company:\",it_companies)"
      ],
      "metadata": {
        "colab": {
          "base_uri": "https://localhost:8080/"
        },
        "id": "8gi2MYgynV9x",
        "outputId": "4f6ed1e0-7bea-4be5-c248-4957010fe0b0"
      },
      "execution_count": 8,
      "outputs": [
        {
          "output_type": "stream",
          "name": "stdout",
          "text": [
            "After discarding company: {'AIS', 'IBM', 'Facebook', 'Apple', 'Oracle', 'Amazon', 'Google', 'Twitter', 'Microsoft', 'Wipro', 'Infosys'}\n"
          ]
        }
      ]
    },
    {
      "cell_type": "code",
      "source": [
        "A = {19, 22, 24, 20, 25, 26}\n",
        "B = {19, 22, 20, 25, 26, 24, 28, 27}\n",
        "age = [22, 19, 24, 25, 26, 24, 25, 24]"
      ],
      "metadata": {
        "id": "SLJ05DNNnOyb"
      },
      "execution_count": 9,
      "outputs": []
    },
    {
      "cell_type": "code",
      "source": [
        "#Join A and B\n",
        "print(\"Join A and B:\", A.union(B))"
      ],
      "metadata": {
        "colab": {
          "base_uri": "https://localhost:8080/"
        },
        "id": "br6WffJIn6Jz",
        "outputId": "96bbb8f7-69ce-48f6-d7dd-5d5d8b6dd4cf"
      },
      "execution_count": 10,
      "outputs": [
        {
          "output_type": "stream",
          "name": "stdout",
          "text": [
            "Join A and B: {19, 20, 22, 24, 25, 26, 27, 28}\n"
          ]
        }
      ]
    },
    {
      "cell_type": "code",
      "source": [
        "#Find A intersection B\n",
        "print(\"Intersection of A and B:\", A.intersection(B))"
      ],
      "metadata": {
        "colab": {
          "base_uri": "https://localhost:8080/"
        },
        "id": "LtAwtuW8oGkl",
        "outputId": "0ce51c54-a24a-4145-aefd-1b471d78f157"
      },
      "execution_count": 11,
      "outputs": [
        {
          "output_type": "stream",
          "name": "stdout",
          "text": [
            "Intersection of A and B: {19, 20, 22, 24, 25, 26}\n"
          ]
        }
      ]
    },
    {
      "cell_type": "code",
      "source": [
        "#Is A subset of B\n",
        "print(\"Is A subset of B:\", A.issubset(B))"
      ],
      "metadata": {
        "colab": {
          "base_uri": "https://localhost:8080/"
        },
        "id": "a685F1M3oLyU",
        "outputId": "8520de13-fc68-489b-e901-b64b7932739e"
      },
      "execution_count": 13,
      "outputs": [
        {
          "output_type": "stream",
          "name": "stdout",
          "text": [
            "Is A subset of B: True\n"
          ]
        }
      ]
    },
    {
      "cell_type": "code",
      "source": [
        "#Join A with B and B with A\n",
        "#Join A and B\n",
        "print(\"Join A and B:\", A.union(B))\n",
        "#Join B and A\n",
        "print(\"Join B and A:\", B.union(A))\n"
      ],
      "metadata": {
        "colab": {
          "base_uri": "https://localhost:8080/"
        },
        "id": "NDWgkOfboYwW",
        "outputId": "534b0451-e155-40ce-8961-68bf69682942"
      },
      "execution_count": 14,
      "outputs": [
        {
          "output_type": "stream",
          "name": "stdout",
          "text": [
            "Join A and B: {19, 20, 22, 24, 25, 26, 27, 28}\n",
            "Join B and A: {19, 20, 22, 24, 25, 26, 27, 28}\n"
          ]
        }
      ]
    },
    {
      "cell_type": "code",
      "source": [
        "#Disjoint\n",
        "print(\"Disjoint:\", A.isdisjoint(B))"
      ],
      "metadata": {
        "colab": {
          "base_uri": "https://localhost:8080/"
        },
        "id": "Ja2L-RC9pZZr",
        "outputId": "c4022d50-dcdc-47c5-abde-3fab71eb4fe0"
      },
      "execution_count": 15,
      "outputs": [
        {
          "output_type": "stream",
          "name": "stdout",
          "text": [
            "Disjoint: False\n"
          ]
        }
      ]
    },
    {
      "cell_type": "code",
      "source": [
        "#What is the symmetric difference between A and B\n",
        "symmetry = A.symmetric_difference(B)\n",
        "print('The symmetry between A and B is=', symmetry)"
      ],
      "metadata": {
        "colab": {
          "base_uri": "https://localhost:8080/"
        },
        "id": "7qSupb4PpcuE",
        "outputId": "ab95a3fc-2005-405a-f898-969acb8e4829"
      },
      "execution_count": 16,
      "outputs": [
        {
          "output_type": "stream",
          "name": "stdout",
          "text": [
            "The symmetry between A and B is= {27, 28}\n"
          ]
        }
      ]
    },
    {
      "cell_type": "code",
      "source": [
        "#Delete the sets completely\n",
        "\n",
        "A.clear()\n",
        "B.clear()\n",
        "print('Value of A:', A)\n",
        "print('Value of B:', B)"
      ],
      "metadata": {
        "colab": {
          "base_uri": "https://localhost:8080/"
        },
        "id": "jvAqNxNHp8wU",
        "outputId": "8237fd89-155a-424c-b794-71aaeeee97cd"
      },
      "execution_count": 17,
      "outputs": [
        {
          "output_type": "stream",
          "name": "stdout",
          "text": [
            "Value of A: set()\n",
            "Value of B: set()\n"
          ]
        }
      ]
    },
    {
      "cell_type": "code",
      "source": [
        "#Convert the ages to a set and compare the length of the list and the set\n",
        "age = [22, 19, 24, 25, 26, 24, 25, 24]\n",
        "s = set(age)\n",
        "print(s)\n",
        "print('Type:', type(s) )"
      ],
      "metadata": {
        "colab": {
          "base_uri": "https://localhost:8080/"
        },
        "id": "7ZY4zsDMqrN6",
        "outputId": "534fb096-f645-4c93-86b7-5772aa89a730"
      },
      "execution_count": 18,
      "outputs": [
        {
          "output_type": "stream",
          "name": "stdout",
          "text": [
            "{19, 22, 24, 25, 26}\n",
            "Type: <class 'set'>\n"
          ]
        }
      ]
    },
    {
      "cell_type": "code",
      "source": [
        "print('length of list:', len(age) )\n",
        "print('length of set:', len(s) )"
      ],
      "metadata": {
        "colab": {
          "base_uri": "https://localhost:8080/"
        },
        "id": "OjR17JClrktI",
        "outputId": "9cd4ec26-445d-47b9-db84-578e1d79dafb"
      },
      "execution_count": 19,
      "outputs": [
        {
          "output_type": "stream",
          "name": "stdout",
          "text": [
            "length of list: 8\n",
            "length of set: 5\n"
          ]
        }
      ]
    },
    {
      "cell_type": "markdown",
      "source": [
        "**Question 5**\n",
        "----------------\n",
        "\n",
        "The radius of a circle is 30 meters.\n",
        "* Calculate the area of a circle and assign the value to a variable name of _area_of_circle_\n",
        "* Calculate the circumference of a circle and assign the value to a variable name of\n",
        "_circum_of_circle_\n",
        "* Take radius as user input and calculate the area."
      ],
      "metadata": {
        "id": "I4hG9nZcr377"
      }
    },
    {
      "cell_type": "code",
      "source": [
        "#Calculate the area of a circle and assign the value to a variable name of area_of_circle\n",
        "from math import pi\n",
        "r = 30\n",
        "print (\"The area of the circle with radius \" + str(r) + \" is: \" + str(pi * r**2))"
      ],
      "metadata": {
        "colab": {
          "base_uri": "https://localhost:8080/"
        },
        "id": "OwIhfFEDsDzu",
        "outputId": "a219a760-b783-4a3d-cb18-18135a247069"
      },
      "execution_count": 20,
      "outputs": [
        {
          "output_type": "stream",
          "name": "stdout",
          "text": [
            "The area of the circle with radius 30 is: 2827.4333882308138\n"
          ]
        }
      ]
    },
    {
      "cell_type": "code",
      "source": [
        "#Calculate the circumference of a circle and assign the value to a variable name of circum_of_circle\n",
        "print (\"The circumference of the circle with radius \" + str(r) + \" is: \" + str(2 * pi * r))"
      ],
      "metadata": {
        "colab": {
          "base_uri": "https://localhost:8080/"
        },
        "id": "ym6l8DjTsGPd",
        "outputId": "a7096a01-8cfa-4274-9ddc-37795283f2e8"
      },
      "execution_count": 21,
      "outputs": [
        {
          "output_type": "stream",
          "name": "stdout",
          "text": [
            "The circumference of the circle with radius 30 is: 188.49555921538757\n"
          ]
        }
      ]
    },
    {
      "cell_type": "code",
      "source": [
        "#Take radius as user input and calculate the area.\n",
        "from math import pi\n",
        "r = float(input (\"Input the radius of the circle : \"))\n",
        "print (\"The area of the circle with radius \" + str(r) + \" is: \" + str(pi * r**2))"
      ],
      "metadata": {
        "colab": {
          "base_uri": "https://localhost:8080/"
        },
        "id": "TZdjwceMsJ2V",
        "outputId": "bee1a81c-737f-4c3e-ac3a-30cb38721187"
      },
      "execution_count": 22,
      "outputs": [
        {
          "output_type": "stream",
          "name": "stdout",
          "text": [
            "Input the radius of the circle : 28\n",
            "The area of the circle with radius 28.0 is: 2463.0086404143976\n"
          ]
        }
      ]
    },
    {
      "cell_type": "markdown",
      "source": [
        "**Question 6**\n",
        "---------------\n",
        "\n",
        "`“I am a teacher and I love to inspire and teach people”`\n",
        "* How many unique words have been used in the sentence? Use the split methods and set\n",
        "to get the unique words."
      ],
      "metadata": {
        "id": "_GIlMpGKtlcq"
      }
    },
    {
      "cell_type": "code",
      "source": [
        "#Unique word\n",
        "sentence = \"I am a teacher and I love to inspire and teach people\".split()\n",
        "unique = [uniq for uniq in sentence if uniq not in sentence[sentence.index(uniq)+1:]]\n",
        "print('Unique words:', unique)\n",
        "print('Number of Unique words:', len(unique))"
      ],
      "metadata": {
        "colab": {
          "base_uri": "https://localhost:8080/"
        },
        "id": "KnfbShTwtroM",
        "outputId": "85b45a3f-cb6e-4c79-e1e5-734806957456"
      },
      "execution_count": 26,
      "outputs": [
        {
          "output_type": "stream",
          "name": "stdout",
          "text": [
            "Unique words: ['am', 'a', 'teacher', 'love', 'to', 'inspire', 'teach', 'people']\n",
            "Number of Unique words: 8\n"
          ]
        }
      ]
    },
    {
      "cell_type": "markdown",
      "source": [
        "**Question 7**\n",
        "----------------\n",
        "\n",
        "* Use a tab escape sequence to get the following lines.\n",
        "\n",
        "\n",
        "\n",
        "```\n",
        "Name       Age    Country    City\n",
        "\n",
        "Asabeneh   250    Finland    Helsinki\n",
        "```\n",
        "\n",
        "\n"
      ],
      "metadata": {
        "id": "ClRO5wQ0uzTt"
      }
    },
    {
      "cell_type": "code",
      "source": [
        "lines= \"Name\\t Age\\tCountry\\tCity\\t\\nAsabeneh 250\\tFinland\\tHelsinki\"\n",
        "print(lines)"
      ],
      "metadata": {
        "colab": {
          "base_uri": "https://localhost:8080/"
        },
        "id": "3aZTQFNsw0M8",
        "outputId": "cbbb25b2-0771-492c-dbaa-b5fa522c783d"
      },
      "execution_count": 27,
      "outputs": [
        {
          "output_type": "stream",
          "name": "stdout",
          "text": [
            "Name\t Age\tCountry\tCity\t\n",
            "Asabeneh 250\tFinland\tHelsinki\n"
          ]
        }
      ]
    },
    {
      "cell_type": "markdown",
      "source": [
        "**Question 8**\n",
        "--------------\n",
        "\n",
        "* Use the string formatting method to display the following:\n",
        "\n",
        "\n",
        "```\n",
        "radius = 10\n",
        "area = 3.14 * radius ** 2\n",
        "```\n",
        "\n",
        "\n",
        "\n",
        "`“The area of a circle with radius 10 is 314 meters square.”`\n"
      ],
      "metadata": {
        "id": "AvqoLmnLv_qe"
      }
    },
    {
      "cell_type": "code",
      "source": [
        "r=10\n",
        "print(f'radius = 10')\n",
        "print(f'area = 3.14*radius**2')\n",
        "print(f'\"The area of circle with radius {r} is {3.14*r*r} meters square\"')"
      ],
      "metadata": {
        "colab": {
          "base_uri": "https://localhost:8080/"
        },
        "id": "2XTac6t4yOBN",
        "outputId": "cc78b68c-cadc-4a2c-839e-52e07f6117a4"
      },
      "execution_count": 29,
      "outputs": [
        {
          "output_type": "stream",
          "name": "stdout",
          "text": [
            "radius = 10\n",
            "area = 3.14*radius**2\n",
            "\"The area of circle with radius 10 is 314.0 meters square\"\n"
          ]
        }
      ]
    },
    {
      "cell_type": "markdown",
      "source": [
        "**Question 9**\n",
        "-------------\n",
        "* Write a program, which reads weights (lbs.) of N students into a list and convert these weights to kilograms in a separate list using Loop. N: No of students (Read input from user)\n",
        "\n",
        "\n",
        "```\n",
        "Ex: L1: [150, 155, 145, 148]\n",
        "Output: [68.03, 70.3, 65.77, 67.13]\n",
        "```\n",
        "\n",
        "\n"
      ],
      "metadata": {
        "id": "xJBjQJ4qwDPQ"
      }
    },
    {
      "cell_type": "code",
      "source": [
        "L1=[int(num) for num in input().split(\" \")]\n",
        "#Creating another list called Weight_kg\n",
        "Weight_kg=[]\n",
        "#Using for loop to iterate the values and appending the list\n",
        "for i in L1:\n",
        " Weight_kg.append(round(i/2.205,2))\n",
        "#Displaying the values in kgs after conversion\n",
        "print (\"Values are:\",Weight_kg)"
      ],
      "metadata": {
        "colab": {
          "base_uri": "https://localhost:8080/"
        },
        "id": "UFozx5rV5hWB",
        "outputId": "398e6690-e0fb-4b5d-b516-210ef1ee1bfd"
      },
      "execution_count": 31,
      "outputs": [
        {
          "output_type": "stream",
          "name": "stdout",
          "text": [
            "10 30 45 69 100\n",
            "Values are: [4.54, 13.61, 20.41, 31.29, 45.35]\n"
          ]
        }
      ]
    },
    {
      "cell_type": "markdown",
      "source": [
        "**Question 10**\n",
        "---------------\n",
        "\n",
        "The diagram below shows a dataset with 2 classes and 8 data points, each with only one feature\n",
        "value, labeled f. Note that there are two data points with the same feature value of 6. These are\n",
        "shown as two x’s one above the other. Provide stepwise mathematical solution, do not write\n",
        "code for it.\n",
        "![image.png](data:image/png;base64,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)\n",
        "\n",
        "\n",
        "\n",
        "1. Divide this data equally into two parts. Use first part as training and second part as\n",
        "testing. Using KNN classifier, for K=3, what would be the predicted outputs for the test\n",
        "samples? Show how you arrived at your answer.\n",
        "2. Compute the confusion matrix for this and calculate accuracy, sensitivity and specificity\n",
        "values."
      ],
      "metadata": {
        "id": "J0blTvZR5527"
      }
    },
    {
      "cell_type": "code",
      "source": [],
      "metadata": {
        "id": "rO3ErtSG617s"
      },
      "execution_count": null,
      "outputs": []
    }
  ]
}